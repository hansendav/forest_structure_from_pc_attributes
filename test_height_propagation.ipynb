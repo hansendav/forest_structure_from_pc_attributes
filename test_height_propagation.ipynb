{
 "cells": [
  {
   "cell_type": "code",
   "execution_count": 26,
   "id": "813cb895-9506-4d69-b7e6-83bb44b9ace6",
   "metadata": {},
   "outputs": [],
   "source": [
    "import higra as hg \n",
    "import numpy as np \n",
    "import numpy.ma as ma \n",
    "\n",
    "from pprint import pformat\n",
    "import inspect\n",
    "import tempfile\n",
    "from pathlib import Path\n",
    "\n",
    "import idefix \n",
    "from idefix.vxl import get_grid, bin, squash, fit_bbox \n",
    "from idefix.io import load_las \n",
    "from idefix.helpers import interpolate \n",
    "from idefix.utils import *\n",
    "\n",
    "import sap\n",
    "from sap.utils import * \n",
    "\n",
    "import matplotlib.pyplot as plt"
   ]
  },
  {
   "cell_type": "code",
   "execution_count": 35,
   "id": "bfa4f0a3-7455-49d1-adbe-2dd6b44f91fe",
   "metadata": {},
   "outputs": [],
   "source": [
    "from custom_maxtree import *"
   ]
  },
  {
   "cell_type": "markdown",
   "id": "b469c73a-20d3-4d05-a531-8c229a3c611c",
   "metadata": {},
   "source": [
    "# Testing structural parameter extraction using MaxTree attributes: "
   ]
  },
  {
   "cell_type": "markdown",
   "id": "2aec9d02-cfb1-471c-9ce7-4314678b6b54",
   "metadata": {},
   "source": [
    "**Reading pointcloud**"
   ]
  },
  {
   "cell_type": "code",
   "execution_count": 28,
   "id": "582ee5a1-1f82-4383-bb97-02b4e541a74c",
   "metadata": {},
   "outputs": [],
   "source": [
    "las = load_las('../pc_data/ts3_clip.las')"
   ]
  },
  {
   "cell_type": "code",
   "execution_count": 29,
   "id": "2c32eeb8-b3bc-40c2-889a-42081b94bb97",
   "metadata": {},
   "outputs": [],
   "source": [
    "las = las[(las.spatial[..., -1] > 4) & (las.spatial[..., -1] < 25)]"
   ]
  },
  {
   "cell_type": "code",
   "execution_count": 30,
   "id": "0a7dff7a-244b-4be3-b484-c6a98844280e",
   "metadata": {},
   "outputs": [
    {
     "name": "stdout",
     "output_type": "stream",
     "text": [
      "The expected tree height is equal to 9.95m.\n"
     ]
    }
   ],
   "source": [
    "z_min = np.min(las.spatial[..., -1])\n",
    "z_max = np.max(las.spatial[..., -1])\n",
    "h_exp = z_max - z_min \n",
    "print(f\"The expected tree height is equal to {h_exp:.2f}m.\".format(h_exp))"
   ]
  },
  {
   "cell_type": "markdown",
   "id": "7ea31d14-d859-4d63-96ee-f6120a03b1fe",
   "metadata": {},
   "source": [
    "**Voxelization**. Using only the point density as value for voxels. "
   ]
  },
  {
   "cell_type": "code",
   "execution_count": 31,
   "id": "1cb17093-8fd1-4033-b87c-62e18adf1af1",
   "metadata": {},
   "outputs": [],
   "source": [
    "grid_space = 1\n",
    "bbox = fit_bbox(las.spatial) \n",
    "grid = get_grid(bbox, grid_space) \n",
    "#fval = getattr(las.feature, 'intensity')\n",
    "#vxl = bin(grid, las.spatial, fval, 'mean') \n",
    "vxl = bin(grid, las.spatial, 'density')\n",
    "# vxl"
   ]
  },
  {
   "cell_type": "markdown",
   "id": "c8767a33-de5c-48de-92ec-108d414474de",
   "metadata": {},
   "source": [
    "**Display input voxel array** "
   ]
  },
  {
   "cell_type": "code",
   "execution_count": 32,
   "id": "d0b73d38-9536-43ec-9e7a-4cba84049c85",
   "metadata": {},
   "outputs": [
    {
     "name": "stdout",
     "output_type": "stream",
     "text": [
      "Notebook initialized with ipy backend.\n"
     ]
    }
   ],
   "source": [
    "from mayavi import mlab\n",
    "mlab.init_notebook()"
   ]
  },
  {
   "cell_type": "code",
   "execution_count": 33,
   "id": "d1e98dec-1cfd-4c8d-b93c-8bda5d7a02d0",
   "metadata": {},
   "outputs": [
    {
     "data": {
      "application/vnd.jupyter.widget-view+json": {
       "model_id": "94a9c63a12df4dcfb7cc13c3cfddf0bc",
       "version_major": 2,
       "version_minor": 0
      },
      "text/plain": [
       "Image(value=b'\\x89PNG\\r\\n\\x1a\\n\\x00\\x00\\x00\\rIHDR\\x00\\x00\\x01\\x90\\x00\\x00\\x01^\\x08\\x02\\x00\\x00\\x00$?\\xde_\\x00\\…"
      ]
     },
     "metadata": {},
     "output_type": "display_data"
    }
   ],
   "source": [
    "mlab.clf()\n",
    "idefix.vxl.plot(vxl)"
   ]
  },
  {
   "cell_type": "code",
   "execution_count": 34,
   "id": "38784659-4794-466e-b0f6-652919701373",
   "metadata": {},
   "outputs": [],
   "source": [
    "mlab.clf()"
   ]
  },
  {
   "cell_type": "markdown",
   "id": "d05c856c-a2af-4c8b-a6dd-43c969f2ab63",
   "metadata": {},
   "source": [
    "**Calculating voxel height based on voxel index** "
   ]
  },
  {
   "cell_type": "code",
   "execution_count": 12,
   "id": "5f319e80-2c95-47d8-9e5c-48803601f480",
   "metadata": {},
   "outputs": [],
   "source": [
    "x, y, z = vxl.shape"
   ]
  },
  {
   "cell_type": "code",
   "execution_count": 13,
   "id": "97f76fb4-3cb5-4c1a-a6e3-1b870849a55c",
   "metadata": {},
   "outputs": [],
   "source": [
    "# Height based on index in Z\n",
    "z_indices = np.arange(z).reshape(1, 1, z)\n",
    "z_indices = z_indices + grid_space\n",
    "z_array = np.broadcast_to(z_indices, (x, y, z)) \n",
    "z_values = z_array.flatten() # Flatten the values to match shape of MaxTree leaves\n",
    "z_values = z_values * grid_space # Scale values to match voxel extend "
   ]
  },
  {
   "cell_type": "markdown",
   "id": "5b125606-e3d7-45d8-99ec-73d585d98a9d",
   "metadata": {},
   "source": [
    "**MaxTree creation**. Using a adjacency of 6. "
   ]
  },
  {
   "cell_type": "code",
   "execution_count": 14,
   "id": "b4f28210-22d7-4a74-bf79-9423a1d7dfb1",
   "metadata": {},
   "outputs": [
    {
     "data": {
      "text/plain": [
       "MaxTree{'adjacency': 6,\n",
       " 'image.dtype': dtype('float64'),\n",
       " 'image.shape': (44, 59, 10),\n",
       " 'image_hash': '952a2dee',\n",
       " 'image_name': None,\n",
       " 'num_nodes': 27105}"
      ]
     },
     "execution_count": 14,
     "metadata": {},
     "output_type": "execute_result"
    }
   ],
   "source": [
    "# Tree creation \n",
    "t = MaxTree(vxl, adjacency=6)\n",
    "t"
   ]
  },
  {
   "cell_type": "markdown",
   "id": "4feab1a7-65e3-482e-926e-11af6754394b",
   "metadata": {},
   "source": [
    "**Creation of additional attributes**. This being height, extent ... "
   ]
  },
  {
   "cell_type": "code",
   "execution_count": 15,
   "id": "e70fce11-4b8f-45ee-af76-25812e1c8cbd",
   "metadata": {},
   "outputs": [],
   "source": [
    "# Shape of the following arrays == #nodes \n",
    "max_values = hg.accumulate_sequential(t._tree, z_values, hg.Accumulators.max)\n",
    "min_values = hg.accumulate_sequential(t._tree, z_values, hg.Accumulators.min)\n",
    "height = max_values - min_values "
   ]
  },
  {
   "cell_type": "code",
   "execution_count": 16,
   "id": "2047b47c-88a1-42d0-babd-5c1abbdf769e",
   "metadata": {},
   "outputs": [
    {
     "data": {
      "text/plain": [
       "True"
      ]
     },
     "execution_count": 16,
     "metadata": {},
     "output_type": "execute_result"
    }
   ],
   "source": [
    "len(height) == t.num_nodes()"
   ]
  },
  {
   "cell_type": "code",
   "execution_count": 17,
   "id": "90b7959b-f050-46bd-8ab6-69f7d813c1b6",
   "metadata": {},
   "outputs": [
    {
     "data": {
      "text/plain": [
       "<Axes: >"
      ]
     },
     "execution_count": 17,
     "metadata": {},
     "output_type": "execute_result"
    },
    {
     "data": {
      "image/png": "[encoded data removed]",
      "text/plain": [
       "<Figure size 640x480 with 1 Axes>"
      ]
     },
     "metadata": {},
     "output_type": "display_data"
    }
   ],
   "source": [
    "import seaborn as sns \n",
    "sns.boxplot(height)"
   ]
  },
  {
   "cell_type": "markdown",
   "id": "4c8e7a5b-f3fa-4b96-b939-c440b6caa931",
   "metadata": {},
   "source": [
    "**Reconstruction of tree/Structural element derivation**. "
   ]
  },
  {
   "cell_type": "code",
   "execution_count": 18,
   "id": "3fba15b4-f17d-4484-ad26-9b53c6b55849",
   "metadata": {},
   "outputs": [],
   "source": [
    "volume = t.get_attribute('volume')"
   ]
  },
  {
   "cell_type": "code",
   "execution_count": 19,
   "id": "537c609b-5829-42f4-b340-62d00d22183e",
   "metadata": {},
   "outputs": [
    {
     "data": {
      "text/plain": [
       "<Axes: >"
      ]
     },
     "execution_count": 19,
     "metadata": {},
     "output_type": "execute_result"
    },
    {
     "data": {
      "image/png": "[encoded data removed]",
      "text/plain": [
       "<Figure size 640x480 with 1 Axes>"
      ]
     },
     "metadata": {},
     "output_type": "display_data"
    }
   ],
   "source": [
    "sns.boxplot(volume)"
   ]
  },
  {
   "cell_type": "code",
   "execution_count": 20,
   "id": "760cfdd5-18b6-4bfe-a107-f02186aa9333",
   "metadata": {},
   "outputs": [],
   "source": [
    "# Reconstruction based on height \n",
    "rec = t.reconstruct((height < 8) & (height > 2))"
   ]
  },
  {
   "cell_type": "code",
   "execution_count": 21,
   "id": "bc4aa629-fabe-406b-ab98-fb26c8f88bba",
   "metadata": {},
   "outputs": [],
   "source": [
    "# Created masked array from reconstructed based on 0 values after reconstruction  \n",
    "rec = ma.masked_equal(rec, 0)"
   ]
  },
  {
   "cell_type": "code",
   "execution_count": 22,
   "id": "8fa76a38-1ec2-4c36-b7f5-f0f77ea7dab1",
   "metadata": {},
   "outputs": [
    {
     "data": {
      "application/vnd.jupyter.widget-view+json": {
       "model_id": "94a9c63a12df4dcfb7cc13c3cfddf0bc",
       "version_major": 2,
       "version_minor": 0
      },
      "text/plain": [
       "Image(value=b'\\x89PNG\\r\\n\\x1a\\n\\x00\\x00\\x00\\rIHDR\\x00\\x00\\x01\\x90\\x00\\x00\\x01^\\x08\\x02\\x00\\x00\\x00$?\\xde_\\x00\\…"
      ]
     },
     "metadata": {},
     "output_type": "display_data"
    }
   ],
   "source": [
    "mlab.clf()\n",
    "idefix.vxl.plot(rec)"
   ]
  },
  {
   "cell_type": "code",
   "execution_count": 23,
   "id": "bdb61338-bf41-4078-b444-53a71531ccde",
   "metadata": {},
   "outputs": [],
   "source": [
    "mlab.clf()"
   ]
  },
  {
   "cell_type": "code",
   "execution_count": 24,
   "id": "1de2c400-e783-46a8-a61a-a1a62a94c658",
   "metadata": {},
   "outputs": [
    {
     "name": "stdout",
     "output_type": "stream",
     "text": [
      "Before filtering and reconstructing 78.94% of the voxelspace was masked.\n",
      "After reconstructing 79.78% of the space was masked.\n"
     ]
    }
   ],
   "source": [
    "masked_before = vxl.mask[vxl.mask == True].size/vxl.size\n",
    "masked_after = rec.mask[rec.mask == True].size/vxl.size\n",
    "print(f\"Before filtering and reconstructing {masked_before*100:.2f}% of the voxelspace was masked.\\nAfter reconstructing {masked_after*100:.2f}% of the space was masked.\".format(masked_before, masked_after))"
   ]
  },
  {
   "cell_type": "code",
   "execution_count": null,
   "id": "0e41579e-aa32-4c0e-8c36-7361329b4f00",
   "metadata": {},
   "outputs": [],
   "source": []
  }
 ],
 "metadata": {
  "kernelspec": {
   "display_name": "Python 3 (ipykernel)",
   "language": "python",
   "name": "python3"
  },
  "language_info": {
   "codemirror_mode": {
    "name": "ipython",
    "version": 3
   },
   "file_extension": ".py",
   "mimetype": "text/x-python",
   "name": "python",
   "nbconvert_exporter": "python",
   "pygments_lexer": "ipython3",
   "version": "3.12.4"
  }
 },
 "nbformat": 4,
 "nbformat_minor": 5
}
