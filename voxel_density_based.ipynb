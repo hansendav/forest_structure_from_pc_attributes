{
 "cells": [
  {
   "cell_type": "code",
   "execution_count": 1,
   "id": "95186111-983b-45a9-b812-93ac83227469",
   "metadata": {},
   "outputs": [
    {
     "name": "stderr",
     "output_type": "stream",
     "text": [
      "/home/gentleprotector/miniconda3/envs/letg_internship/lib/python3.12/site-packages/numpy/core/getlimits.py:549: UserWarning: The value of the smallest subnormal for <class 'numpy.float64'> type is zero.\n",
      "  setattr(self, word, getattr(machar, word).flat[0])\n",
      "/home/gentleprotector/miniconda3/envs/letg_internship/lib/python3.12/site-packages/numpy/core/getlimits.py:89: UserWarning: The value of the smallest subnormal for <class 'numpy.float64'> type is zero.\n",
      "  return self._float_to_str(self.smallest_subnormal)\n",
      "/home/gentleprotector/miniconda3/envs/letg_internship/lib/python3.12/site-packages/numpy/core/getlimits.py:549: UserWarning: The value of the smallest subnormal for <class 'numpy.float32'> type is zero.\n",
      "  setattr(self, word, getattr(machar, word).flat[0])\n",
      "/home/gentleprotector/miniconda3/envs/letg_internship/lib/python3.12/site-packages/numpy/core/getlimits.py:89: UserWarning: The value of the smallest subnormal for <class 'numpy.float32'> type is zero.\n",
      "  return self._float_to_str(self.smallest_subnormal)\n"
     ]
    }
   ],
   "source": [
    "import higra as hg \n",
    "import numpy as np \n",
    "import numpy.ma as ma \n",
    "import idefix\n",
    "from idefix.utils import * \n",
    "from idefix.vxl import get_grid, bin, fit_bbox\n",
    "from idefix.io import load_las \n",
    "from sap.utils import *\n",
    "from custom_maxtree import * "
   ]
  },
  {
   "cell_type": "code",
   "execution_count": 2,
   "id": "3559c14d-f102-4d70-bf2c-3da741eb8810",
   "metadata": {},
   "outputs": [
    {
     "name": "stderr",
     "output_type": "stream",
     "text": [
      "QStandardPaths: wrong permissions on runtime directory /run/user/1000/, 0755 instead of 0700\n"
     ]
    },
    {
     "name": "stdout",
     "output_type": "stream",
     "text": [
      "Notebook initialized with ipy backend.\n"
     ]
    }
   ],
   "source": [
    "from mayavi import mlab \n",
    "mlab.init_notebook() "
   ]
  },
  {
   "cell_type": "code",
   "execution_count": 3,
   "id": "341510a7-96a0-4ec3-881d-e78bfe86831e",
   "metadata": {},
   "outputs": [],
   "source": [
    "las = load_las('../pc_data/ts3_clip.las')"
   ]
  },
  {
   "cell_type": "code",
   "execution_count": 4,
   "id": "4d7d5449-0b75-4b7c-af60-b68739dd8e31",
   "metadata": {},
   "outputs": [],
   "source": [
    "las = las[(las.spatial[..., -1] > 4) & (las.spatial[..., -1] < 25)]"
   ]
  },
  {
   "cell_type": "code",
   "execution_count": 5,
   "id": "ccebce23-5fbd-47b8-a0fd-def9151c5791",
   "metadata": {},
   "outputs": [],
   "source": [
    "grid_space = 1\n",
    "bbox = fit_bbox(las.spatial) \n",
    "grid = get_grid(bbox, grid_space) \n",
    "#fval = getattr(las.feature, 'intensity')\n",
    "#vxl = bin(grid, las.spatial, fval, 'mean')\n",
    "vxl = bin(grid, las.spatial, 'density')"
   ]
  },
  {
   "cell_type": "code",
   "execution_count": 8,
   "id": "270cb551-6c63-446c-a43c-50bac0e55803",
   "metadata": {},
   "outputs": [],
   "source": [
    "# mask low density voxels\n",
    "vxl = ma.masked_where(vxl == 1, vxl)"
   ]
  },
  {
   "cell_type": "code",
   "execution_count": 10,
   "id": "dd151f6c-f8e1-4f8a-a1ed-9982558c00b9",
   "metadata": {},
   "outputs": [
    {
     "data": {
      "application/vnd.jupyter.widget-view+json": {
       "model_id": "1fe5855cc6ca4559b8667151de84c517",
       "version_major": 2,
       "version_minor": 0
      },
      "text/plain": [
       "Image(value=b'\\x89PNG\\r\\n\\x1a\\n\\x00\\x00\\x00\\rIHDR\\x00\\x00\\x01\\x90\\x00\\x00\\x01^\\x08\\x02\\x00\\x00\\x00$?\\xde_\\x00\\…"
      ]
     },
     "metadata": {},
     "output_type": "display_data"
    }
   ],
   "source": [
    "mlab.clf()\n",
    "idefix.vxl.plot(vxl)"
   ]
  },
  {
   "cell_type": "code",
   "execution_count": 11,
   "id": "f6b2b6e2-b196-4ce6-ba1f-df81dcd195cf",
   "metadata": {},
   "outputs": [],
   "source": [
    "mlab.clf()"
   ]
  },
  {
   "cell_type": "code",
   "execution_count": 12,
   "id": "68ad5f94-b365-4767-965c-f005e1f6b833",
   "metadata": {},
   "outputs": [],
   "source": [
    "t = MaxTree(vxl, adjacency=6)"
   ]
  },
  {
   "cell_type": "code",
   "execution_count": 13,
   "id": "48c526a0-192a-4937-8bae-162993fcc976",
   "metadata": {},
   "outputs": [],
   "source": [
    "area = t.get_attribute('area')"
   ]
  },
  {
   "cell_type": "code",
   "execution_count": 14,
   "id": "2ba5cbea-6871-47d0-b4c0-dd6612406c34",
   "metadata": {},
   "outputs": [],
   "source": [
    "rec = t.reconstruct(area < 2.5234e+04)"
   ]
  },
  {
   "cell_type": "code",
   "execution_count": null,
   "id": "89836d9c-434f-40fe-b269-0cdff2e2cf85",
   "metadata": {},
   "outputs": [],
   "source": [
    "rec_maske"
   ]
  }
 ],
 "metadata": {
  "kernelspec": {
   "display_name": "Python 3 (ipykernel)",
   "language": "python",
   "name": "python3"
  },
  "language_info": {
   "codemirror_mode": {
    "name": "ipython",
    "version": 3
   },
   "file_extension": ".py",
   "mimetype": "text/x-python",
   "name": "python",
   "nbconvert_exporter": "python",
   "pygments_lexer": "ipython3",
   "version": "3.12.4"
  }
 },
 "nbformat": 4,
 "nbformat_minor": 5
}
