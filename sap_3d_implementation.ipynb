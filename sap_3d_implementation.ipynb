{
 "cells": [
  {
   "cell_type": "code",
   "execution_count": 1,
   "id": "658f6728-6846-4267-a2fc-8efa7b73d09b",
   "metadata": {},
   "outputs": [
    {
     "name": "stderr",
     "output_type": "stream",
     "text": [
      "/home/gentleprotector/miniconda3/envs/letg_internship/lib/python3.12/site-packages/numpy/core/getlimits.py:549: UserWarning: The value of the smallest subnormal for <class 'numpy.float64'> type is zero.\n",
      "  setattr(self, word, getattr(machar, word).flat[0])\n",
      "/home/gentleprotector/miniconda3/envs/letg_internship/lib/python3.12/site-packages/numpy/core/getlimits.py:89: UserWarning: The value of the smallest subnormal for <class 'numpy.float64'> type is zero.\n",
      "  return self._float_to_str(self.smallest_subnormal)\n",
      "/home/gentleprotector/miniconda3/envs/letg_internship/lib/python3.12/site-packages/numpy/core/getlimits.py:549: UserWarning: The value of the smallest subnormal for <class 'numpy.float32'> type is zero.\n",
      "  setattr(self, word, getattr(machar, word).flat[0])\n",
      "/home/gentleprotector/miniconda3/envs/letg_internship/lib/python3.12/site-packages/numpy/core/getlimits.py:89: UserWarning: The value of the smallest subnormal for <class 'numpy.float32'> type is zero.\n",
      "  return self._float_to_str(self.smallest_subnormal)\n"
     ]
    }
   ],
   "source": [
    "import higra as hg \n",
    "import numpy as np \n",
    "import numpy.ma as ma \n",
    "import idefix\n",
    "from idefix.utils import * \n",
    "from idefix.vxl import get_grid, bin, fit_bbox\n",
    "from idefix.io import load_las \n",
    "from sap.utils import *\n",
    "from custom_maxtree import * "
   ]
  },
  {
   "cell_type": "code",
   "execution_count": 2,
   "id": "788f50d2-f9d1-4667-b4af-9c4c5d0ceb95",
   "metadata": {},
   "outputs": [
    {
     "name": "stderr",
     "output_type": "stream",
     "text": [
      "QStandardPaths: wrong permissions on runtime directory /run/user/1000/, 0755 instead of 0700\n"
     ]
    },
    {
     "name": "stdout",
     "output_type": "stream",
     "text": [
      "Notebook initialized with ipy backend.\n"
     ]
    }
   ],
   "source": [
    "from mayavi import mlab \n",
    "mlab.init_notebook() "
   ]
  },
  {
   "cell_type": "code",
   "execution_count": 71,
   "id": "8644a7d5-a94b-4908-939a-9596a27d0f2b",
   "metadata": {},
   "outputs": [],
   "source": [
    "las = load_las('../pc_data/ts3_clip.las')"
   ]
  },
  {
   "cell_type": "code",
   "execution_count": 72,
   "id": "d881d286-df46-4a8a-a064-81a7039bcb4b",
   "metadata": {},
   "outputs": [],
   "source": [
    "# Hard outlier filter here\n",
    "las = las[(las.spatial[..., -1] > 4) & (las.spatial[..., -1] < 25)]"
   ]
  },
  {
   "cell_type": "code",
   "execution_count": 73,
   "id": "9a233f46-f83d-4905-9efa-8f1b1f31346b",
   "metadata": {},
   "outputs": [
    {
     "name": "stdout",
     "output_type": "stream",
     "text": [
      "The expected maximum tree height is 9.95m.\n"
     ]
    }
   ],
   "source": [
    "z_min = np.min(las.spatial[..., -1])\n",
    "z_max = np.max(las.spatial[..., -1])\n",
    "h_exp = z_max - z_min \n",
    "print(f\"The expected maximum tree height is {h_exp:.2f}m.\".format(h_exp))"
   ]
  },
  {
   "cell_type": "markdown",
   "id": "611519eb-b19d-4c95-a675-ed747f2094be",
   "metadata": {},
   "source": [
    "**Voxelization** Using mean of intensities."
   ]
  },
  {
   "cell_type": "code",
   "execution_count": 88,
   "id": "b48c11be-d208-4877-8b3e-132c278754d4",
   "metadata": {},
   "outputs": [],
   "source": [
    "grid_space = 1\n",
    "bbox = fit_bbox(las.spatial) \n",
    "grid = get_grid(bbox, grid_space) \n",
    "fval = getattr(las.feature, 'intensity')\n",
    "vxl = bin(grid, las.spatial, fval, 'mean') "
   ]
  },
  {
   "cell_type": "code",
   "execution_count": 89,
   "id": "7cb2acb0-9d65-4288-8138-66867936c593",
   "metadata": {},
   "outputs": [],
   "source": [
    "#vxl"
   ]
  },
  {
   "cell_type": "markdown",
   "id": "666759c6-2427-4813-86b2-c7140b2d7edd",
   "metadata": {},
   "source": [
    "**MaxTree creation**"
   ]
  },
  {
   "cell_type": "code",
   "execution_count": 90,
   "id": "be8d6e83-8666-4fc6-b19f-9eff2e3a5931",
   "metadata": {},
   "outputs": [],
   "source": [
    "t = MaxTree(vxl, adjacency=6)"
   ]
  },
  {
   "cell_type": "code",
   "execution_count": 91,
   "id": "d291f2ea-2a02-45f4-bfc2-21fda35b6710",
   "metadata": {},
   "outputs": [
    {
     "name": "stdout",
     "output_type": "stream",
     "text": [
      "MaxTree{'adjacency': 6,\n",
      " 'image.dtype': dtype('uint16'),\n",
      " 'image.shape': (44, 59, 10),\n",
      " 'image_hash': '13642f58',\n",
      " 'image_name': None,\n",
      " 'num_nodes': 29619}\n"
     ]
    }
   ],
   "source": [
    "print(t)"
   ]
  },
  {
   "cell_type": "code",
   "execution_count": 92,
   "id": "5d5a110c-9c12-4592-a601-1fe5dd1c718d",
   "metadata": {},
   "outputs": [
    {
     "data": {
      "application/vnd.jupyter.widget-view+json": {
       "model_id": "d666df48c64a43d181006f5352357f1b",
       "version_major": 2,
       "version_minor": 0
      },
      "text/plain": [
       "Image(value=b'\\x89PNG\\r\\n\\x1a\\n\\x00\\x00\\x00\\rIHDR\\x00\\x00\\x01\\x90\\x00\\x00\\x01^\\x08\\x02\\x00\\x00\\x00$?\\xde_\\x00\\…"
      ]
     },
     "metadata": {},
     "output_type": "display_data"
    }
   ],
   "source": [
    "mlab.clf()\n",
    "idefix.vxl.plot(vxl)"
   ]
  },
  {
   "cell_type": "code",
   "execution_count": 140,
   "id": "e5de70f1-e95b-41ac-934c-441fec0c933c",
   "metadata": {},
   "outputs": [],
   "source": [
    "mlab.clf()"
   ]
  },
  {
   "cell_type": "code",
   "execution_count": 94,
   "id": "471dbcdf-ce6a-42aa-9187-5031602d497d",
   "metadata": {},
   "outputs": [],
   "source": [
    "area = t.get_attribute('area')"
   ]
  },
  {
   "cell_type": "code",
   "execution_count": 116,
   "id": "5fffa715-1a53-4b17-abb0-cb62d2394fea",
   "metadata": {},
   "outputs": [
    {
     "data": {
      "text/plain": [
       "array([1.000e+00, 1.000e+00, 1.000e+00, ..., 4.711e+03, 2.300e+02,\n",
       "       2.596e+04])"
      ]
     },
     "execution_count": 116,
     "metadata": {},
     "output_type": "execute_result"
    }
   ],
   "source": [
    "area"
   ]
  },
  {
   "cell_type": "code",
   "execution_count": 134,
   "id": "24285159-1054-4990-878b-8b2a692eec93",
   "metadata": {},
   "outputs": [],
   "source": [
    "rec = t.reconstruct(area < 2.5243e+04)"
   ]
  },
  {
   "cell_type": "code",
   "execution_count": 132,
   "id": "2f04165b-dc83-46a7-87b9-00a2a9220936",
   "metadata": {},
   "outputs": [],
   "source": [
    "rec_masked = ma.masked_equal(rec, 0)"
   ]
  },
  {
   "cell_type": "code",
   "execution_count": 133,
   "id": "4f78c99d-900a-4057-a3d5-b2cd9f483125",
   "metadata": {
    "scrolled": true
   },
   "outputs": [
    {
     "name": "stderr",
     "output_type": "stream",
     "text": [
      "Exception occurred in traits notification handler for object: <mayavi.core.lut_manager.LUTManager object at 0x7fe19264b950>, trait: data_range, old value: [0. 1.], new value: [ 1.e+299 -1.e+299]\n",
      "Traceback (most recent call last):\n",
      "  File \"/home/gentleprotector/miniconda3/envs/letg_internship/lib/python3.12/site-packages/traits/trait_notifiers.py\", line 342, in __call__\n",
      "    self.handler(*args)\n",
      "  File \"/home/gentleprotector/miniconda3/envs/letg_internship/lib/python3.12/site-packages/mayavi/core/lut_manager.py\", line 434, in _data_range_changed\n",
      "    assert value[0] <= value[1]\n",
      "           ^^^^^^^^^^^^^^^^^^^^\n",
      "AssertionError\n"
     ]
    },
    {
     "data": {
      "application/vnd.jupyter.widget-view+json": {
       "model_id": "d666df48c64a43d181006f5352357f1b",
       "version_major": 2,
       "version_minor": 0
      },
      "text/plain": [
       "Image(value=b'\\x89PNG\\r\\n\\x1a\\n\\x00\\x00\\x00\\rIHDR\\x00\\x00\\x01\\x90\\x00\\x00\\x01^\\x08\\x02\\x00\\x00\\x00$?\\xde_\\x00\\…"
      ]
     },
     "metadata": {},
     "output_type": "display_data"
    }
   ],
   "source": [
    "mlab.clf()\n",
    "idefix.vxl.plot(rec_masked)"
   ]
  },
  {
   "cell_type": "code",
   "execution_count": 129,
   "id": "1427f5b4-abea-434d-bd67-82a3fe856119",
   "metadata": {},
   "outputs": [],
   "source": [
    "mlab.clf()"
   ]
  },
  {
   "cell_type": "code",
   "execution_count": 130,
   "id": "eed80625-3c70-4583-bcde-0be550177308",
   "metadata": {},
   "outputs": [
    {
     "name": "stdout",
     "output_type": "stream",
     "text": [
      "Before filtering and reconstructing 78.94% of the voxelspace was masked.\n",
      "After reconstructing 79.28% of the space was masked.\n"
     ]
    }
   ],
   "source": [
    "masked_before = vxl.mask[vxl.mask == True].size/vxl.size\n",
    "masked_after = rec_masked.mask[rec_masked.mask == True].size/vxl.size\n",
    "print(f\"Before filtering and reconstructing {masked_before*100:.2f}% of the voxelspace was masked.\\nAfter reconstructing {masked_after*100:.2f}% of the space was masked.\".format(masked_before, masked_after))"
   ]
  },
  {
   "cell_type": "markdown",
   "id": "d6dff0db-b27b-4142-bc57-511d8f4dae46",
   "metadata": {},
   "source": [
    "**Reconstruction seems to work properly with adapted functionality for SAP**"
   ]
  }
 ],
 "metadata": {
  "kernelspec": {
   "display_name": "Python 3 (ipykernel)",
   "language": "python",
   "name": "python3"
  },
  "language_info": {
   "codemirror_mode": {
    "name": "ipython",
    "version": 3
   },
   "file_extension": ".py",
   "mimetype": "text/x-python",
   "name": "python",
   "nbconvert_exporter": "python",
   "pygments_lexer": "ipython3",
   "version": "3.12.4"
  }
 },
 "nbformat": 4,
 "nbformat_minor": 5
}
